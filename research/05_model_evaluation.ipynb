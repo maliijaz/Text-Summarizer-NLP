{
 "cells": [
  {
   "cell_type": "code",
   "execution_count": 1,
   "metadata": {},
   "outputs": [],
   "source": [
    "import os"
   ]
  },
  {
   "cell_type": "code",
   "execution_count": 2,
   "metadata": {},
   "outputs": [],
   "source": [
    "os.chdir('../')"
   ]
  },
  {
   "cell_type": "code",
   "execution_count": 3,
   "metadata": {},
   "outputs": [
    {
     "data": {
      "text/plain": [
       "'f:\\\\Py\\\\Text-Summarizer-NLP-Tutorial'"
      ]
     },
     "execution_count": 3,
     "metadata": {},
     "output_type": "execute_result"
    }
   ],
   "source": [
    "%pwd"
   ]
  },
  {
   "cell_type": "code",
   "execution_count": 4,
   "metadata": {},
   "outputs": [],
   "source": [
    "from dataclasses import dataclass\n",
    "from pathlib import Path\n",
    "\n",
    "@dataclass(frozen=True)\n",
    "class ModelEvaluationConfig:\n",
    "      root_dir: Path \n",
    "      data_path: Path\n",
    "      model_path: Path\n",
    "      tokenizer_path: Path\n",
    "      metric_file_name: Path"
   ]
  },
  {
   "cell_type": "code",
   "execution_count": 5,
   "metadata": {},
   "outputs": [],
   "source": [
    "from TextSummarizer.constants import *\n",
    "from TextSummarizer.utils.common import read_yaml, create_directories"
   ]
  },
  {
   "cell_type": "code",
   "execution_count": 6,
   "metadata": {},
   "outputs": [],
   "source": [
    "class ConfigurationManager:\n",
    "      def __init__(\n",
    "            self,\n",
    "            config_file_path = CONFIG_FILE_PATH,\n",
    "            params_file_path = PARAMS_FILE_PATH):\n",
    "\n",
    "            self.config = read_yaml(config_file_path)\n",
    "            self.params = read_yaml(params_file_path) \n",
    "\n",
    "            create_directories([self.config.artifacts_root])\n",
    "\n",
    "      def get_model_evaluation_config(self) -> ModelEvaluationConfig:\n",
    "            config = self.config.model_evaluation\n",
    "            params = self.params.TrainingArguments\n",
    "            create_directories([config.root_dir])\n",
    "\n",
    "            model_evaluation_config = ModelEvaluationConfig(\n",
    "                  root_dir = config.root_dir,\n",
    "                  data_path = config.data_path,\n",
    "                  model_path = config.model_path,\n",
    "                  tokenizer_path = config.tokenizer_path,\n",
    "                  metric_file_name = config.metric_file_name\n",
    "            )\n",
    "            return model_evaluation_config"
   ]
  },
  {
   "cell_type": "code",
   "execution_count": 7,
   "metadata": {},
   "outputs": [
    {
     "name": "stderr",
     "output_type": "stream",
     "text": [
      "c:\\Users\\Ali\\anaconda3\\envs\\textS\\Lib\\site-packages\\tqdm\\auto.py:21: TqdmWarning: IProgress not found. Please update jupyter and ipywidgets. See https://ipywidgets.readthedocs.io/en/stable/user_install.html\n",
      "  from .autonotebook import tqdm as notebook_tqdm\n"
     ]
    }
   ],
   "source": [
    "from transformers import AutoModelForSeq2SeqLM, AutoTokenizer\n",
    "from datasets import load_metric, load_from_disk, load_dataset\n",
    "import torch\n",
    "import pandas as pd\n",
    "from tqdm import tqdm\n"
   ]
  },
  {
   "cell_type": "code",
   "execution_count": 8,
   "metadata": {},
   "outputs": [],
   "source": [
    "class ModelEvaluation:\n",
    "      def __init__(self, config: ModelEvaluationConfig):\n",
    "            self.config = config\n",
    "      \n",
    "      \n",
    "      def generate_batch_sized_chunks(self, list_of_elements, batch_size):\n",
    "            \"\"\"split the dataset into smaller batches that we can process simultaneously\n",
    "            Yield successive batch-sized chunks from list_of_elements.\"\"\"\n",
    "            for i in range(0, len(list_of_elements), batch_size):\n",
    "                  yield list_of_elements[i : i + batch_size]\n",
    "            \n",
    "\n",
    "      def calculate_metric_on_test_ds(self, dataset, metric, model, tokenizer, \n",
    "                              batch_size=16, device= \"cuda\" if torch.cuda.is_available() else \"cpu\", \n",
    "                              column_text=\"article\", \n",
    "                              column_summary=\"highlights\"):\n",
    "            article_batches = list(self.generate_batch_sized_chunks(dataset[column_text], batch_size))\n",
    "            target_batches = list(self.generate_batch_sized_chunks(dataset[column_summary], batch_size))\n",
    "            for article_batch, target_batch in tqdm(\n",
    "                  zip(article_batches, target_batches), total=len(article_batches)):\n",
    "      \n",
    "                  inputs = tokenizer(article_batch, max_length=1024,  truncation=True, \n",
    "                        padding=\"max_length\", return_tensors=\"pt\")\n",
    "      \n",
    "                  summaries = model.generate(input_ids=inputs[\"input_ids\"].to(device),\n",
    "                        attention_mask=inputs[\"attention_mask\"].to(device), \n",
    "                        length_penalty=0.8, num_beams=8, max_length=128)\n",
    "                  ''' parameter for length penalty ensures that the model does not generate sequences that are too long. '''\n",
    "\n",
    "                  # Finally, we decode the generated texts, \n",
    "                  # replace the  token, and add the decoded texts with the references to the metric.\n",
    "                  decoded_summaries = [tokenizer.decode(s, skip_special_tokens=True, \n",
    "                                    clean_up_tokenization_spaces=True) \n",
    "                  for s in summaries]      \n",
    "\n",
    "                  decoded_summaries = [d.replace(\"\", \" \") for d in decoded_summaries]\n",
    "\n",
    "                  metric.add_batch(predictions=decoded_summaries, references=target_batch)\n",
    "            \n",
    "            score = metric.compute()\n",
    "            return score\n",
    "      \n",
    "      def evaluate(self):\n",
    "            device = \"cuda\" if torch.cuda.is_available() else \"cpu\"\n",
    "            tokenizer = AutoTokenizer.from_pretrained(self.config.tokenizer_path)\n",
    "            model_pegasus = AutoModelForSeq2SeqLM.from_pretrained(self.config.model_path).to(device)\n",
    "            dataset_samsum_pt = load_from_disk(self.config.data_path)\n",
    "\n",
    "            rouge_names = [\"rouge1\", \"rouge2\", \"rougeL\", \"rougeLsum\"]\n",
    "            rouge_metric = load_metric('rouge')\n",
    "\n",
    "            score = self.calculate_metric_on_test_ds(\n",
    "            dataset_samsum_pt['test'][0:10], rouge_metric, model_pegasus, tokenizer, batch_size = 2, column_text = 'dialogue', column_summary= 'summary'\n",
    "            )\n",
    "\n",
    "            rouge_dict = dict((rn, score[rn].mid.fmeasure ) for rn in rouge_names )\n",
    "\n",
    "            df = pd.DataFrame(rouge_dict, index = [f'pegasus'] )\n",
    "            df.to_csv(self.config.metric_file_name, index=False)\n"
   ]
  },
  {
   "cell_type": "code",
   "execution_count": 9,
   "metadata": {},
   "outputs": [
    {
     "name": "stdout",
     "output_type": "stream",
     "text": [
      "[2023-09-19 15:20:11,362: INFO: common: yaml file: config\\config.yaml loaded successfully]\n"
     ]
    },
    {
     "name": "stdout",
     "output_type": "stream",
     "text": [
      "[2023-09-19 15:20:11,393: INFO: common: yaml file: params.yaml loaded successfully]\n",
      "[2023-09-19 15:20:11,395: INFO: common: Created directory at artifacts]\n",
      "[2023-09-19 15:20:11,402: INFO: common: Created directory at artifacts/model_evaluation]\n"
     ]
    },
    {
     "name": "stderr",
     "output_type": "stream",
     "text": [
      "C:\\Users\\Ali\\AppData\\Local\\Temp\\ipykernel_7144\\1689077831.py:50: FutureWarning: load_metric is deprecated and will be removed in the next major version of datasets. Use 'evaluate.load' instead, from the new library 🤗 Evaluate: https://huggingface.co/docs/evaluate\n",
      "  rouge_metric = load_metric('rouge')\n",
      "  0%|          | 0/5 [00:22<?, ?it/s]\n"
     ]
    },
    {
     "ename": "KeyboardInterrupt",
     "evalue": "",
     "output_type": "error",
     "traceback": [
      "\u001b[1;31m---------------------------------------------------------------------------\u001b[0m",
      "\u001b[1;31mKeyboardInterrupt\u001b[0m                         Traceback (most recent call last)",
      "\u001b[1;32mf:\\Py\\Text-Summarizer-NLP-Tutorial\\research\\05_model_evaluation.ipynb Cell 9\u001b[0m line \u001b[0;36m5\n\u001b[0;32m      <a href='vscode-notebook-cell:/f%3A/Py/Text-Summarizer-NLP-Tutorial/research/05_model_evaluation.ipynb#X11sZmlsZQ%3D%3D?line=2'>3</a>\u001b[0m       model_evaluation_config \u001b[39m=\u001b[39m config\u001b[39m.\u001b[39mget_model_evaluation_config()\n\u001b[0;32m      <a href='vscode-notebook-cell:/f%3A/Py/Text-Summarizer-NLP-Tutorial/research/05_model_evaluation.ipynb#X11sZmlsZQ%3D%3D?line=3'>4</a>\u001b[0m       model_evaluation \u001b[39m=\u001b[39m ModelEvaluation(config \u001b[39m=\u001b[39m model_evaluation_config)\n\u001b[1;32m----> <a href='vscode-notebook-cell:/f%3A/Py/Text-Summarizer-NLP-Tutorial/research/05_model_evaluation.ipynb#X11sZmlsZQ%3D%3D?line=4'>5</a>\u001b[0m       model_evaluation\u001b[39m.\u001b[39;49mevaluate()\n\u001b[0;32m      <a href='vscode-notebook-cell:/f%3A/Py/Text-Summarizer-NLP-Tutorial/research/05_model_evaluation.ipynb#X11sZmlsZQ%3D%3D?line=5'>6</a>\u001b[0m \u001b[39mexcept\u001b[39;00m \u001b[39mException\u001b[39;00m \u001b[39mas\u001b[39;00m e:\n\u001b[0;32m      <a href='vscode-notebook-cell:/f%3A/Py/Text-Summarizer-NLP-Tutorial/research/05_model_evaluation.ipynb#X11sZmlsZQ%3D%3D?line=6'>7</a>\u001b[0m       \u001b[39mraise\u001b[39;00m e\n",
      "\u001b[1;32mf:\\Py\\Text-Summarizer-NLP-Tutorial\\research\\05_model_evaluation.ipynb Cell 9\u001b[0m line \u001b[0;36m5\n\u001b[0;32m     <a href='vscode-notebook-cell:/f%3A/Py/Text-Summarizer-NLP-Tutorial/research/05_model_evaluation.ipynb#X11sZmlsZQ%3D%3D?line=48'>49</a>\u001b[0m rouge_names \u001b[39m=\u001b[39m [\u001b[39m\"\u001b[39m\u001b[39mrouge1\u001b[39m\u001b[39m\"\u001b[39m, \u001b[39m\"\u001b[39m\u001b[39mrouge2\u001b[39m\u001b[39m\"\u001b[39m, \u001b[39m\"\u001b[39m\u001b[39mrougeL\u001b[39m\u001b[39m\"\u001b[39m, \u001b[39m\"\u001b[39m\u001b[39mrougeLsum\u001b[39m\u001b[39m\"\u001b[39m]\n\u001b[0;32m     <a href='vscode-notebook-cell:/f%3A/Py/Text-Summarizer-NLP-Tutorial/research/05_model_evaluation.ipynb#X11sZmlsZQ%3D%3D?line=49'>50</a>\u001b[0m rouge_metric \u001b[39m=\u001b[39m load_metric(\u001b[39m'\u001b[39m\u001b[39mrouge\u001b[39m\u001b[39m'\u001b[39m)\n\u001b[1;32m---> <a href='vscode-notebook-cell:/f%3A/Py/Text-Summarizer-NLP-Tutorial/research/05_model_evaluation.ipynb#X11sZmlsZQ%3D%3D?line=51'>52</a>\u001b[0m score \u001b[39m=\u001b[39m \u001b[39mself\u001b[39;49m\u001b[39m.\u001b[39;49mcalculate_metric_on_test_ds(\n\u001b[0;32m     <a href='vscode-notebook-cell:/f%3A/Py/Text-Summarizer-NLP-Tutorial/research/05_model_evaluation.ipynb#X11sZmlsZQ%3D%3D?line=52'>53</a>\u001b[0m dataset_samsum_pt[\u001b[39m'\u001b[39;49m\u001b[39mtest\u001b[39;49m\u001b[39m'\u001b[39;49m][\u001b[39m0\u001b[39;49m:\u001b[39m10\u001b[39;49m], rouge_metric, model_pegasus, tokenizer, batch_size \u001b[39m=\u001b[39;49m \u001b[39m2\u001b[39;49m, column_text \u001b[39m=\u001b[39;49m \u001b[39m'\u001b[39;49m\u001b[39mdialogue\u001b[39;49m\u001b[39m'\u001b[39;49m, column_summary\u001b[39m=\u001b[39;49m \u001b[39m'\u001b[39;49m\u001b[39msummary\u001b[39;49m\u001b[39m'\u001b[39;49m\n\u001b[0;32m     <a href='vscode-notebook-cell:/f%3A/Py/Text-Summarizer-NLP-Tutorial/research/05_model_evaluation.ipynb#X11sZmlsZQ%3D%3D?line=53'>54</a>\u001b[0m )\n\u001b[0;32m     <a href='vscode-notebook-cell:/f%3A/Py/Text-Summarizer-NLP-Tutorial/research/05_model_evaluation.ipynb#X11sZmlsZQ%3D%3D?line=55'>56</a>\u001b[0m rouge_dict \u001b[39m=\u001b[39m \u001b[39mdict\u001b[39m((rn, score[rn]\u001b[39m.\u001b[39mmid\u001b[39m.\u001b[39mfmeasure ) \u001b[39mfor\u001b[39;00m rn \u001b[39min\u001b[39;00m rouge_names )\n\u001b[0;32m     <a href='vscode-notebook-cell:/f%3A/Py/Text-Summarizer-NLP-Tutorial/research/05_model_evaluation.ipynb#X11sZmlsZQ%3D%3D?line=57'>58</a>\u001b[0m df \u001b[39m=\u001b[39m pd\u001b[39m.\u001b[39mDataFrame(rouge_dict, index \u001b[39m=\u001b[39m [\u001b[39mf\u001b[39m\u001b[39m'\u001b[39m\u001b[39mpegasus\u001b[39m\u001b[39m'\u001b[39m] )\n",
      "\u001b[1;32mf:\\Py\\Text-Summarizer-NLP-Tutorial\\research\\05_model_evaluation.ipynb Cell 9\u001b[0m line \u001b[0;36m2\n\u001b[0;32m     <a href='vscode-notebook-cell:/f%3A/Py/Text-Summarizer-NLP-Tutorial/research/05_model_evaluation.ipynb#X11sZmlsZQ%3D%3D?line=18'>19</a>\u001b[0m \u001b[39mfor\u001b[39;00m article_batch, target_batch \u001b[39min\u001b[39;00m tqdm(\n\u001b[0;32m     <a href='vscode-notebook-cell:/f%3A/Py/Text-Summarizer-NLP-Tutorial/research/05_model_evaluation.ipynb#X11sZmlsZQ%3D%3D?line=19'>20</a>\u001b[0m       \u001b[39mzip\u001b[39m(article_batches, target_batches), total\u001b[39m=\u001b[39m\u001b[39mlen\u001b[39m(article_batches)):\n\u001b[0;32m     <a href='vscode-notebook-cell:/f%3A/Py/Text-Summarizer-NLP-Tutorial/research/05_model_evaluation.ipynb#X11sZmlsZQ%3D%3D?line=21'>22</a>\u001b[0m       inputs \u001b[39m=\u001b[39m tokenizer(article_batch, max_length\u001b[39m=\u001b[39m\u001b[39m1024\u001b[39m,  truncation\u001b[39m=\u001b[39m\u001b[39mTrue\u001b[39;00m, \n\u001b[0;32m     <a href='vscode-notebook-cell:/f%3A/Py/Text-Summarizer-NLP-Tutorial/research/05_model_evaluation.ipynb#X11sZmlsZQ%3D%3D?line=22'>23</a>\u001b[0m             padding\u001b[39m=\u001b[39m\u001b[39m\"\u001b[39m\u001b[39mmax_length\u001b[39m\u001b[39m\"\u001b[39m, return_tensors\u001b[39m=\u001b[39m\u001b[39m\"\u001b[39m\u001b[39mpt\u001b[39m\u001b[39m\"\u001b[39m)\n\u001b[1;32m---> <a href='vscode-notebook-cell:/f%3A/Py/Text-Summarizer-NLP-Tutorial/research/05_model_evaluation.ipynb#X11sZmlsZQ%3D%3D?line=24'>25</a>\u001b[0m       summaries \u001b[39m=\u001b[39m model\u001b[39m.\u001b[39;49mgenerate(input_ids\u001b[39m=\u001b[39;49minputs[\u001b[39m\"\u001b[39;49m\u001b[39minput_ids\u001b[39;49m\u001b[39m\"\u001b[39;49m]\u001b[39m.\u001b[39;49mto(device),\n\u001b[0;32m     <a href='vscode-notebook-cell:/f%3A/Py/Text-Summarizer-NLP-Tutorial/research/05_model_evaluation.ipynb#X11sZmlsZQ%3D%3D?line=25'>26</a>\u001b[0m             attention_mask\u001b[39m=\u001b[39;49minputs[\u001b[39m\"\u001b[39;49m\u001b[39mattention_mask\u001b[39;49m\u001b[39m\"\u001b[39;49m]\u001b[39m.\u001b[39;49mto(device), \n\u001b[0;32m     <a href='vscode-notebook-cell:/f%3A/Py/Text-Summarizer-NLP-Tutorial/research/05_model_evaluation.ipynb#X11sZmlsZQ%3D%3D?line=26'>27</a>\u001b[0m             length_penalty\u001b[39m=\u001b[39;49m\u001b[39m0.8\u001b[39;49m, num_beams\u001b[39m=\u001b[39;49m\u001b[39m8\u001b[39;49m, max_length\u001b[39m=\u001b[39;49m\u001b[39m128\u001b[39;49m)\n\u001b[0;32m     <a href='vscode-notebook-cell:/f%3A/Py/Text-Summarizer-NLP-Tutorial/research/05_model_evaluation.ipynb#X11sZmlsZQ%3D%3D?line=27'>28</a>\u001b[0m \u001b[39m      \u001b[39m\u001b[39m''' parameter for length penalty ensures that the model does not generate sequences that are too long. '''\u001b[39;00m\n\u001b[0;32m     <a href='vscode-notebook-cell:/f%3A/Py/Text-Summarizer-NLP-Tutorial/research/05_model_evaluation.ipynb#X11sZmlsZQ%3D%3D?line=29'>30</a>\u001b[0m       \u001b[39m# Finally, we decode the generated texts, \u001b[39;00m\n\u001b[0;32m     <a href='vscode-notebook-cell:/f%3A/Py/Text-Summarizer-NLP-Tutorial/research/05_model_evaluation.ipynb#X11sZmlsZQ%3D%3D?line=30'>31</a>\u001b[0m       \u001b[39m# replace the  token, and add the decoded texts with the references to the metric.\u001b[39;00m\n",
      "File \u001b[1;32mc:\\Users\\Ali\\anaconda3\\envs\\textS\\Lib\\site-packages\\torch\\utils\\_contextlib.py:115\u001b[0m, in \u001b[0;36mcontext_decorator.<locals>.decorate_context\u001b[1;34m(*args, **kwargs)\u001b[0m\n\u001b[0;32m    112\u001b[0m \u001b[39m@functools\u001b[39m\u001b[39m.\u001b[39mwraps(func)\n\u001b[0;32m    113\u001b[0m \u001b[39mdef\u001b[39;00m \u001b[39mdecorate_context\u001b[39m(\u001b[39m*\u001b[39margs, \u001b[39m*\u001b[39m\u001b[39m*\u001b[39mkwargs):\n\u001b[0;32m    114\u001b[0m     \u001b[39mwith\u001b[39;00m ctx_factory():\n\u001b[1;32m--> 115\u001b[0m         \u001b[39mreturn\u001b[39;00m func(\u001b[39m*\u001b[39;49margs, \u001b[39m*\u001b[39;49m\u001b[39m*\u001b[39;49mkwargs)\n",
      "File \u001b[1;32mc:\\Users\\Ali\\anaconda3\\envs\\textS\\Lib\\site-packages\\transformers\\generation\\utils.py:1492\u001b[0m, in \u001b[0;36mGenerationMixin.generate\u001b[1;34m(self, inputs, generation_config, logits_processor, stopping_criteria, prefix_allowed_tokens_fn, synced_gpus, assistant_model, streamer, negative_prompt_ids, negative_prompt_attention_mask, **kwargs)\u001b[0m\n\u001b[0;32m   1484\u001b[0m         logger\u001b[39m.\u001b[39mwarning(\n\u001b[0;32m   1485\u001b[0m             \u001b[39m\"\u001b[39m\u001b[39mA decoder-only architecture is being used, but right-padding was detected! For correct \u001b[39m\u001b[39m\"\u001b[39m\n\u001b[0;32m   1486\u001b[0m             \u001b[39m\"\u001b[39m\u001b[39mgeneration results, please set `padding_side=\u001b[39m\u001b[39m'\u001b[39m\u001b[39mleft\u001b[39m\u001b[39m'\u001b[39m\u001b[39m` when initializing the tokenizer.\u001b[39m\u001b[39m\"\u001b[39m\n\u001b[0;32m   1487\u001b[0m         )\n\u001b[0;32m   1489\u001b[0m \u001b[39mif\u001b[39;00m \u001b[39mself\u001b[39m\u001b[39m.\u001b[39mconfig\u001b[39m.\u001b[39mis_encoder_decoder \u001b[39mand\u001b[39;00m \u001b[39m\"\u001b[39m\u001b[39mencoder_outputs\u001b[39m\u001b[39m\"\u001b[39m \u001b[39mnot\u001b[39;00m \u001b[39min\u001b[39;00m model_kwargs:\n\u001b[0;32m   1490\u001b[0m     \u001b[39m# if model is encoder decoder encoder_outputs are created\u001b[39;00m\n\u001b[0;32m   1491\u001b[0m     \u001b[39m# and added to `model_kwargs`\u001b[39;00m\n\u001b[1;32m-> 1492\u001b[0m     model_kwargs \u001b[39m=\u001b[39m \u001b[39mself\u001b[39;49m\u001b[39m.\u001b[39;49m_prepare_encoder_decoder_kwargs_for_generation(\n\u001b[0;32m   1493\u001b[0m         inputs_tensor, model_kwargs, model_input_name\n\u001b[0;32m   1494\u001b[0m     )\n\u001b[0;32m   1496\u001b[0m \u001b[39m# 5. Prepare `input_ids` which will be used for auto-regressive generation\u001b[39;00m\n\u001b[0;32m   1497\u001b[0m \u001b[39mif\u001b[39;00m \u001b[39mself\u001b[39m\u001b[39m.\u001b[39mconfig\u001b[39m.\u001b[39mis_encoder_decoder:\n",
      "File \u001b[1;32mc:\\Users\\Ali\\anaconda3\\envs\\textS\\Lib\\site-packages\\transformers\\generation\\utils.py:661\u001b[0m, in \u001b[0;36mGenerationMixin._prepare_encoder_decoder_kwargs_for_generation\u001b[1;34m(self, inputs_tensor, model_kwargs, model_input_name)\u001b[0m\n\u001b[0;32m    659\u001b[0m encoder_kwargs[\u001b[39m\"\u001b[39m\u001b[39mreturn_dict\u001b[39m\u001b[39m\"\u001b[39m] \u001b[39m=\u001b[39m \u001b[39mTrue\u001b[39;00m\n\u001b[0;32m    660\u001b[0m encoder_kwargs[model_input_name] \u001b[39m=\u001b[39m inputs_tensor\n\u001b[1;32m--> 661\u001b[0m model_kwargs[\u001b[39m\"\u001b[39m\u001b[39mencoder_outputs\u001b[39m\u001b[39m\"\u001b[39m]: ModelOutput \u001b[39m=\u001b[39m encoder(\u001b[39m*\u001b[39;49m\u001b[39m*\u001b[39;49mencoder_kwargs)\n\u001b[0;32m    663\u001b[0m \u001b[39mreturn\u001b[39;00m model_kwargs\n",
      "File \u001b[1;32mc:\\Users\\Ali\\anaconda3\\envs\\textS\\Lib\\site-packages\\torch\\nn\\modules\\module.py:1501\u001b[0m, in \u001b[0;36mModule._call_impl\u001b[1;34m(self, *args, **kwargs)\u001b[0m\n\u001b[0;32m   1496\u001b[0m \u001b[39m# If we don't have any hooks, we want to skip the rest of the logic in\u001b[39;00m\n\u001b[0;32m   1497\u001b[0m \u001b[39m# this function, and just call forward.\u001b[39;00m\n\u001b[0;32m   1498\u001b[0m \u001b[39mif\u001b[39;00m \u001b[39mnot\u001b[39;00m (\u001b[39mself\u001b[39m\u001b[39m.\u001b[39m_backward_hooks \u001b[39mor\u001b[39;00m \u001b[39mself\u001b[39m\u001b[39m.\u001b[39m_backward_pre_hooks \u001b[39mor\u001b[39;00m \u001b[39mself\u001b[39m\u001b[39m.\u001b[39m_forward_hooks \u001b[39mor\u001b[39;00m \u001b[39mself\u001b[39m\u001b[39m.\u001b[39m_forward_pre_hooks\n\u001b[0;32m   1499\u001b[0m         \u001b[39mor\u001b[39;00m _global_backward_pre_hooks \u001b[39mor\u001b[39;00m _global_backward_hooks\n\u001b[0;32m   1500\u001b[0m         \u001b[39mor\u001b[39;00m _global_forward_hooks \u001b[39mor\u001b[39;00m _global_forward_pre_hooks):\n\u001b[1;32m-> 1501\u001b[0m     \u001b[39mreturn\u001b[39;00m forward_call(\u001b[39m*\u001b[39;49margs, \u001b[39m*\u001b[39;49m\u001b[39m*\u001b[39;49mkwargs)\n\u001b[0;32m   1502\u001b[0m \u001b[39m# Do not call functions when jit is used\u001b[39;00m\n\u001b[0;32m   1503\u001b[0m full_backward_hooks, non_full_backward_hooks \u001b[39m=\u001b[39m [], []\n",
      "File \u001b[1;32mc:\\Users\\Ali\\anaconda3\\envs\\textS\\Lib\\site-packages\\transformers\\models\\pegasus\\modeling_pegasus.py:820\u001b[0m, in \u001b[0;36mPegasusEncoder.forward\u001b[1;34m(self, input_ids, attention_mask, head_mask, inputs_embeds, output_attentions, output_hidden_states, return_dict)\u001b[0m\n\u001b[0;32m    813\u001b[0m         layer_outputs \u001b[39m=\u001b[39m torch\u001b[39m.\u001b[39mutils\u001b[39m.\u001b[39mcheckpoint\u001b[39m.\u001b[39mcheckpoint(\n\u001b[0;32m    814\u001b[0m             create_custom_forward(encoder_layer),\n\u001b[0;32m    815\u001b[0m             hidden_states,\n\u001b[0;32m    816\u001b[0m             attention_mask,\n\u001b[0;32m    817\u001b[0m             (head_mask[idx] \u001b[39mif\u001b[39;00m head_mask \u001b[39mis\u001b[39;00m \u001b[39mnot\u001b[39;00m \u001b[39mNone\u001b[39;00m \u001b[39melse\u001b[39;00m \u001b[39mNone\u001b[39;00m),\n\u001b[0;32m    818\u001b[0m         )\n\u001b[0;32m    819\u001b[0m     \u001b[39melse\u001b[39;00m:\n\u001b[1;32m--> 820\u001b[0m         layer_outputs \u001b[39m=\u001b[39m encoder_layer(\n\u001b[0;32m    821\u001b[0m             hidden_states,\n\u001b[0;32m    822\u001b[0m             attention_mask,\n\u001b[0;32m    823\u001b[0m             layer_head_mask\u001b[39m=\u001b[39;49m(head_mask[idx] \u001b[39mif\u001b[39;49;00m head_mask \u001b[39mis\u001b[39;49;00m \u001b[39mnot\u001b[39;49;00m \u001b[39mNone\u001b[39;49;00m \u001b[39melse\u001b[39;49;00m \u001b[39mNone\u001b[39;49;00m),\n\u001b[0;32m    824\u001b[0m             output_attentions\u001b[39m=\u001b[39;49moutput_attentions,\n\u001b[0;32m    825\u001b[0m         )\n\u001b[0;32m    827\u001b[0m     hidden_states \u001b[39m=\u001b[39m layer_outputs[\u001b[39m0\u001b[39m]\n\u001b[0;32m    829\u001b[0m \u001b[39mif\u001b[39;00m output_attentions:\n",
      "File \u001b[1;32mc:\\Users\\Ali\\anaconda3\\envs\\textS\\Lib\\site-packages\\torch\\nn\\modules\\module.py:1501\u001b[0m, in \u001b[0;36mModule._call_impl\u001b[1;34m(self, *args, **kwargs)\u001b[0m\n\u001b[0;32m   1496\u001b[0m \u001b[39m# If we don't have any hooks, we want to skip the rest of the logic in\u001b[39;00m\n\u001b[0;32m   1497\u001b[0m \u001b[39m# this function, and just call forward.\u001b[39;00m\n\u001b[0;32m   1498\u001b[0m \u001b[39mif\u001b[39;00m \u001b[39mnot\u001b[39;00m (\u001b[39mself\u001b[39m\u001b[39m.\u001b[39m_backward_hooks \u001b[39mor\u001b[39;00m \u001b[39mself\u001b[39m\u001b[39m.\u001b[39m_backward_pre_hooks \u001b[39mor\u001b[39;00m \u001b[39mself\u001b[39m\u001b[39m.\u001b[39m_forward_hooks \u001b[39mor\u001b[39;00m \u001b[39mself\u001b[39m\u001b[39m.\u001b[39m_forward_pre_hooks\n\u001b[0;32m   1499\u001b[0m         \u001b[39mor\u001b[39;00m _global_backward_pre_hooks \u001b[39mor\u001b[39;00m _global_backward_hooks\n\u001b[0;32m   1500\u001b[0m         \u001b[39mor\u001b[39;00m _global_forward_hooks \u001b[39mor\u001b[39;00m _global_forward_pre_hooks):\n\u001b[1;32m-> 1501\u001b[0m     \u001b[39mreturn\u001b[39;00m forward_call(\u001b[39m*\u001b[39;49margs, \u001b[39m*\u001b[39;49m\u001b[39m*\u001b[39;49mkwargs)\n\u001b[0;32m   1502\u001b[0m \u001b[39m# Do not call functions when jit is used\u001b[39;00m\n\u001b[0;32m   1503\u001b[0m full_backward_hooks, non_full_backward_hooks \u001b[39m=\u001b[39m [], []\n",
      "File \u001b[1;32mc:\\Users\\Ali\\anaconda3\\envs\\textS\\Lib\\site-packages\\transformers\\models\\pegasus\\modeling_pegasus.py:336\u001b[0m, in \u001b[0;36mPegasusEncoderLayer.forward\u001b[1;34m(self, hidden_states, attention_mask, layer_head_mask, output_attentions)\u001b[0m\n\u001b[0;32m    334\u001b[0m residual \u001b[39m=\u001b[39m hidden_states\n\u001b[0;32m    335\u001b[0m hidden_states \u001b[39m=\u001b[39m \u001b[39mself\u001b[39m\u001b[39m.\u001b[39mself_attn_layer_norm(hidden_states)\n\u001b[1;32m--> 336\u001b[0m hidden_states, attn_weights, _ \u001b[39m=\u001b[39m \u001b[39mself\u001b[39;49m\u001b[39m.\u001b[39;49mself_attn(\n\u001b[0;32m    337\u001b[0m     hidden_states\u001b[39m=\u001b[39;49mhidden_states,\n\u001b[0;32m    338\u001b[0m     attention_mask\u001b[39m=\u001b[39;49mattention_mask,\n\u001b[0;32m    339\u001b[0m     layer_head_mask\u001b[39m=\u001b[39;49mlayer_head_mask,\n\u001b[0;32m    340\u001b[0m     output_attentions\u001b[39m=\u001b[39;49moutput_attentions,\n\u001b[0;32m    341\u001b[0m )\n\u001b[0;32m    342\u001b[0m hidden_states \u001b[39m=\u001b[39m nn\u001b[39m.\u001b[39mfunctional\u001b[39m.\u001b[39mdropout(hidden_states, p\u001b[39m=\u001b[39m\u001b[39mself\u001b[39m\u001b[39m.\u001b[39mdropout, training\u001b[39m=\u001b[39m\u001b[39mself\u001b[39m\u001b[39m.\u001b[39mtraining)\n\u001b[0;32m    343\u001b[0m hidden_states \u001b[39m=\u001b[39m residual \u001b[39m+\u001b[39m hidden_states\n",
      "File \u001b[1;32mc:\\Users\\Ali\\anaconda3\\envs\\textS\\Lib\\site-packages\\torch\\nn\\modules\\module.py:1501\u001b[0m, in \u001b[0;36mModule._call_impl\u001b[1;34m(self, *args, **kwargs)\u001b[0m\n\u001b[0;32m   1496\u001b[0m \u001b[39m# If we don't have any hooks, we want to skip the rest of the logic in\u001b[39;00m\n\u001b[0;32m   1497\u001b[0m \u001b[39m# this function, and just call forward.\u001b[39;00m\n\u001b[0;32m   1498\u001b[0m \u001b[39mif\u001b[39;00m \u001b[39mnot\u001b[39;00m (\u001b[39mself\u001b[39m\u001b[39m.\u001b[39m_backward_hooks \u001b[39mor\u001b[39;00m \u001b[39mself\u001b[39m\u001b[39m.\u001b[39m_backward_pre_hooks \u001b[39mor\u001b[39;00m \u001b[39mself\u001b[39m\u001b[39m.\u001b[39m_forward_hooks \u001b[39mor\u001b[39;00m \u001b[39mself\u001b[39m\u001b[39m.\u001b[39m_forward_pre_hooks\n\u001b[0;32m   1499\u001b[0m         \u001b[39mor\u001b[39;00m _global_backward_pre_hooks \u001b[39mor\u001b[39;00m _global_backward_hooks\n\u001b[0;32m   1500\u001b[0m         \u001b[39mor\u001b[39;00m _global_forward_hooks \u001b[39mor\u001b[39;00m _global_forward_pre_hooks):\n\u001b[1;32m-> 1501\u001b[0m     \u001b[39mreturn\u001b[39;00m forward_call(\u001b[39m*\u001b[39;49margs, \u001b[39m*\u001b[39;49m\u001b[39m*\u001b[39;49mkwargs)\n\u001b[0;32m   1502\u001b[0m \u001b[39m# Do not call functions when jit is used\u001b[39;00m\n\u001b[0;32m   1503\u001b[0m full_backward_hooks, non_full_backward_hooks \u001b[39m=\u001b[39m [], []\n",
      "File \u001b[1;32mc:\\Users\\Ali\\anaconda3\\envs\\textS\\Lib\\site-packages\\transformers\\models\\pegasus\\modeling_pegasus.py:255\u001b[0m, in \u001b[0;36mPegasusAttention.forward\u001b[1;34m(self, hidden_states, key_value_states, past_key_value, attention_mask, layer_head_mask, output_attentions)\u001b[0m\n\u001b[0;32m    252\u001b[0m     attn_weights \u001b[39m=\u001b[39m attn_weights\u001b[39m.\u001b[39mview(bsz, \u001b[39mself\u001b[39m\u001b[39m.\u001b[39mnum_heads, tgt_len, src_len) \u001b[39m+\u001b[39m attention_mask\n\u001b[0;32m    253\u001b[0m     attn_weights \u001b[39m=\u001b[39m attn_weights\u001b[39m.\u001b[39mview(bsz \u001b[39m*\u001b[39m \u001b[39mself\u001b[39m\u001b[39m.\u001b[39mnum_heads, tgt_len, src_len)\n\u001b[1;32m--> 255\u001b[0m attn_weights \u001b[39m=\u001b[39m nn\u001b[39m.\u001b[39;49mfunctional\u001b[39m.\u001b[39;49msoftmax(attn_weights, dim\u001b[39m=\u001b[39;49m\u001b[39m-\u001b[39;49m\u001b[39m1\u001b[39;49m)\n\u001b[0;32m    257\u001b[0m \u001b[39mif\u001b[39;00m layer_head_mask \u001b[39mis\u001b[39;00m \u001b[39mnot\u001b[39;00m \u001b[39mNone\u001b[39;00m:\n\u001b[0;32m    258\u001b[0m     \u001b[39mif\u001b[39;00m layer_head_mask\u001b[39m.\u001b[39msize() \u001b[39m!=\u001b[39m (\u001b[39mself\u001b[39m\u001b[39m.\u001b[39mnum_heads,):\n",
      "File \u001b[1;32mc:\\Users\\Ali\\anaconda3\\envs\\textS\\Lib\\site-packages\\torch\\nn\\functional.py:1843\u001b[0m, in \u001b[0;36msoftmax\u001b[1;34m(input, dim, _stacklevel, dtype)\u001b[0m\n\u001b[0;32m   1841\u001b[0m     dim \u001b[39m=\u001b[39m _get_softmax_dim(\u001b[39m\"\u001b[39m\u001b[39msoftmax\u001b[39m\u001b[39m\"\u001b[39m, \u001b[39minput\u001b[39m\u001b[39m.\u001b[39mdim(), _stacklevel)\n\u001b[0;32m   1842\u001b[0m \u001b[39mif\u001b[39;00m dtype \u001b[39mis\u001b[39;00m \u001b[39mNone\u001b[39;00m:\n\u001b[1;32m-> 1843\u001b[0m     ret \u001b[39m=\u001b[39m \u001b[39minput\u001b[39;49m\u001b[39m.\u001b[39;49msoftmax(dim)\n\u001b[0;32m   1844\u001b[0m \u001b[39melse\u001b[39;00m:\n\u001b[0;32m   1845\u001b[0m     ret \u001b[39m=\u001b[39m \u001b[39minput\u001b[39m\u001b[39m.\u001b[39msoftmax(dim, dtype\u001b[39m=\u001b[39mdtype)\n",
      "\u001b[1;31mKeyboardInterrupt\u001b[0m: "
     ]
    }
   ],
   "source": [
    "try:\n",
    "      config = ConfigurationManager()\n",
    "      model_evaluation_config = config.get_model_evaluation_config()\n",
    "      model_evaluation = ModelEvaluation(config = model_evaluation_config)\n",
    "      model_evaluation.evaluate()\n",
    "except Exception as e:\n",
    "      raise e"
   ]
  },
  {
   "cell_type": "code",
   "execution_count": null,
   "metadata": {},
   "outputs": [],
   "source": []
  }
 ],
 "metadata": {
  "kernelspec": {
   "display_name": "textS",
   "language": "python",
   "name": "python3"
  },
  "language_info": {
   "codemirror_mode": {
    "name": "ipython",
    "version": 3
   },
   "file_extension": ".py",
   "mimetype": "text/x-python",
   "name": "python",
   "nbconvert_exporter": "python",
   "pygments_lexer": "ipython3",
   "version": "3.11.4"
  },
  "orig_nbformat": 4
 },
 "nbformat": 4,
 "nbformat_minor": 2
}
